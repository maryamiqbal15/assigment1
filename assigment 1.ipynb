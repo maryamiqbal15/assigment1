{
 "cells": [
  {
   "cell_type": "code",
   "execution_count": 5,
   "id": "08fd5f85",
   "metadata": {},
   "outputs": [
    {
     "name": "stdout",
     "output_type": "stream",
     "text": [
      "Twinkle twinkle little star\n",
      " How I wonder what you Are\n",
      "     Up Above the world so high\n",
      "     Like a diamond in the sky\n",
      "Twinkle twinkle little star\n",
      " How I wonder what you Are\n"
     ]
    }
   ],
   "source": [
    "print( \"Twinkle twinkle little star\")\n",
    "print(\" How I wonder what you Are\")\n",
    "print(\"     Up Above the world so high\")\n",
    "print(\"     Like a diamond in the sky\")\n",
    "print( \"Twinkle twinkle little star\")\n",
    "print(\" How I wonder what you Are\")\n",
    "\n"
   ]
  },
  {
   "cell_type": "code",
   "execution_count": 6,
   "id": "8ad45137",
   "metadata": {},
   "outputs": [
    {
     "name": "stdout",
     "output_type": "stream",
     "text": [
      "3.9.7\n"
     ]
    }
   ],
   "source": [
    "import platform\n",
    "print(platform.python_version())"
   ]
  },
  {
   "cell_type": "code",
   "execution_count": 10,
   "id": "30a74a66",
   "metadata": {},
   "outputs": [
    {
     "name": "stdout",
     "output_type": "stream",
     "text": [
      "current_date and time : 2022-15-01/01/22 02:15:22\n"
     ]
    }
   ],
   "source": [
    "import datetime\n",
    "now = datetime.datetime.now();\n",
    "print(\"current_date and time : \" + now.strftime( \"%Y-%M-%D %H:%M:%S\"));"
   ]
  },
  {
   "cell_type": "code",
   "execution_count": 14,
   "id": "91a7e0ba",
   "metadata": {},
   "outputs": [
    {
     "name": "stdout",
     "output_type": "stream",
     "text": [
      "Input your name:Nida\n",
      "Input your last name:Jabbar\n",
      "Jabbar Nida\n"
     ]
    }
   ],
   "source": [
    "firstname = input(\"Input your name:\")\n",
    "lastname = input(\"Input your last name:\");\n",
    "print(lastname +\" \"+ firstname);                  "
   ]
  },
  {
   "cell_type": "code",
   "execution_count": 18,
   "id": "53ec9892",
   "metadata": {},
   "outputs": [
    {
     "name": "stdout",
     "output_type": "stream",
     "text": [
      "Enter first value?10\n",
      "Enter second value10\n",
      "Final result : 20\n"
     ]
    }
   ],
   "source": [
    "num1 = input(\"Enter first value?\");\n",
    "num2 = input(\"Enter second value\");\n",
    "result = int(num1) + int(num2);\n",
    "print(\"Final result : \" + str(result));"
   ]
  },
  {
   "cell_type": "code",
   "execution_count": null,
   "id": "fa507990",
   "metadata": {},
   "outputs": [],
   "source": []
  },
  {
   "cell_type": "code",
   "execution_count": null,
   "id": "b63930af",
   "metadata": {},
   "outputs": [],
   "source": []
  },
  {
   "cell_type": "code",
   "execution_count": null,
   "id": "8dfb39a4",
   "metadata": {},
   "outputs": [],
   "source": []
  }
 ],
 "metadata": {
  "kernelspec": {
   "display_name": "Python 3 (ipykernel)",
   "language": "python",
   "name": "python3"
  },
  "language_info": {
   "codemirror_mode": {
    "name": "ipython",
    "version": 3
   },
   "file_extension": ".py",
   "mimetype": "text/x-python",
   "name": "python",
   "nbconvert_exporter": "python",
   "pygments_lexer": "ipython3",
   "version": "3.9.7"
  }
 },
 "nbformat": 4,
 "nbformat_minor": 5
}
